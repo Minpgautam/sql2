{
 "cells": [
  {
   "cell_type": "code",
   "execution_count": 35,
   "metadata": {},
   "outputs": [],
   "source": [
    "# import necessary library\n",
    "import pandas as pd\n",
    "import sqlalchemy\n",
    "from sqlalchemy import create_engine"
   ]
  },
  {
   "cell_type": "code",
   "execution_count": 37,
   "metadata": {},
   "outputs": [],
   "source": [
    "# reading the database:\n",
    "df=pd.read_csv(\"https://archive.ics.uci.edu/ml/machine-learning-databases/adult/adult.data\",sep=\",\",header=None)\n",
    "# Rename the column names\n",
    "df.columns=[\"Age\",\"WorkClass\",\"BatchId\",\"Education\",\"Number\",\"MartialStatus\",\"Occupation\",\n",
    "               \"Relationship\",\"Race\",\"Sex\",\"CapitalGain\",'CapitalLoss',\"Hours\",\"Country\",\"Income\"]\n",
    "## creating engine\n",
    "engine=create_engine(\"sqlite:///sqlassignment2.db\")\n",
    "## convet to sql\n",
    "df.to_sql(\"Table_one\",engine)"
   ]
  },
  {
   "cell_type": "code",
   "execution_count": 7,
   "metadata": {},
   "outputs": [
    {
     "data": {
      "text/html": [
       "<div>\n",
       "<style scoped>\n",
       "    .dataframe tbody tr th:only-of-type {\n",
       "        vertical-align: middle;\n",
       "    }\n",
       "\n",
       "    .dataframe tbody tr th {\n",
       "        vertical-align: top;\n",
       "    }\n",
       "\n",
       "    .dataframe thead th {\n",
       "        text-align: right;\n",
       "    }\n",
       "</style>\n",
       "<table border=\"1\" class=\"dataframe\">\n",
       "  <thead>\n",
       "    <tr style=\"text-align: right;\">\n",
       "      <th></th>\n",
       "      <th>Age</th>\n",
       "      <th>WorkClass</th>\n",
       "      <th>BatchId</th>\n",
       "      <th>Education</th>\n",
       "      <th>Number</th>\n",
       "      <th>MartialStatus</th>\n",
       "      <th>Occupation</th>\n",
       "      <th>Relationship</th>\n",
       "      <th>Race</th>\n",
       "      <th>Sex</th>\n",
       "      <th>CapitalGain</th>\n",
       "      <th>CapitalLoss</th>\n",
       "      <th>Hours</th>\n",
       "      <th>Country</th>\n",
       "      <th>Income</th>\n",
       "    </tr>\n",
       "  </thead>\n",
       "  <tbody>\n",
       "    <tr>\n",
       "      <th>0</th>\n",
       "      <td>39</td>\n",
       "      <td>State-gov</td>\n",
       "      <td>77516</td>\n",
       "      <td>Bachelors</td>\n",
       "      <td>13</td>\n",
       "      <td>Never-married</td>\n",
       "      <td>Adm-clerical</td>\n",
       "      <td>Not-in-family</td>\n",
       "      <td>White</td>\n",
       "      <td>Male</td>\n",
       "      <td>2174</td>\n",
       "      <td>0</td>\n",
       "      <td>40</td>\n",
       "      <td>United-States</td>\n",
       "      <td>&lt;=50K</td>\n",
       "    </tr>\n",
       "    <tr>\n",
       "      <th>1</th>\n",
       "      <td>50</td>\n",
       "      <td>Self-emp-not-inc</td>\n",
       "      <td>83311</td>\n",
       "      <td>Bachelors</td>\n",
       "      <td>13</td>\n",
       "      <td>Married-civ-spouse</td>\n",
       "      <td>Exec-managerial</td>\n",
       "      <td>Husband</td>\n",
       "      <td>White</td>\n",
       "      <td>Male</td>\n",
       "      <td>0</td>\n",
       "      <td>0</td>\n",
       "      <td>13</td>\n",
       "      <td>United-States</td>\n",
       "      <td>&lt;=50K</td>\n",
       "    </tr>\n",
       "    <tr>\n",
       "      <th>2</th>\n",
       "      <td>38</td>\n",
       "      <td>Private</td>\n",
       "      <td>215646</td>\n",
       "      <td>HS-grad</td>\n",
       "      <td>9</td>\n",
       "      <td>Divorced</td>\n",
       "      <td>Handlers-cleaners</td>\n",
       "      <td>Not-in-family</td>\n",
       "      <td>White</td>\n",
       "      <td>Male</td>\n",
       "      <td>0</td>\n",
       "      <td>0</td>\n",
       "      <td>40</td>\n",
       "      <td>United-States</td>\n",
       "      <td>&lt;=50K</td>\n",
       "    </tr>\n",
       "  </tbody>\n",
       "</table>\n",
       "</div>"
      ],
      "text/plain": [
       "   Age          WorkClass  BatchId   Education  Number        MartialStatus  \\\n",
       "0   39          State-gov    77516   Bachelors      13        Never-married   \n",
       "1   50   Self-emp-not-inc    83311   Bachelors      13   Married-civ-spouse   \n",
       "2   38            Private   215646     HS-grad       9             Divorced   \n",
       "\n",
       "           Occupation    Relationship    Race    Sex  CapitalGain  \\\n",
       "0        Adm-clerical   Not-in-family   White   Male         2174   \n",
       "1     Exec-managerial         Husband   White   Male            0   \n",
       "2   Handlers-cleaners   Not-in-family   White   Male            0   \n",
       "\n",
       "   CapitalLoss  Hours         Country  Income  \n",
       "0            0     40   United-States   <=50K  \n",
       "1            0     13   United-States   <=50K  \n",
       "2            0     40   United-States   <=50K  "
      ]
     },
     "execution_count": 7,
     "metadata": {},
     "output_type": "execute_result"
    }
   ],
   "source": [
    "df.head(3)"
   ]
  },
  {
   "cell_type": "code",
   "execution_count": 9,
   "metadata": {},
   "outputs": [],
   "source": [
    "#Que(1) Create an sqlalchemy engine using a sample from the data set??"
   ]
  },
  {
   "cell_type": "code",
   "execution_count": 8,
   "metadata": {},
   "outputs": [
    {
     "name": "stdout",
     "output_type": "stream",
     "text": [
      "Results: (0, 39, ' State-gov', 77516, ' Bachelors', 13, ' Never-married', ' Adm-clerical', ' Not-in-family', ' White', ' Male', 2174, 0, 40, ' United-States', ' <=50K')\n",
      "Results: (1, 50, ' Self-emp-not-inc', 83311, ' Bachelors', 13, ' Married-civ-spouse', ' Exec-managerial', ' Husband', ' White', ' Male', 0, 0, 13, ' United-States', ' <=50K')\n",
      "Results: (2, 38, ' Private', 215646, ' HS-grad', 9, ' Divorced', ' Handlers-cleaners', ' Not-in-family', ' White', ' Male', 0, 0, 40, ' United-States', ' <=50K')\n",
      "Results: (3, 53, ' Private', 234721, ' 11th', 7, ' Married-civ-spouse', ' Handlers-cleaners', ' Husband', ' Black', ' Male', 0, 0, 40, ' United-States', ' <=50K')\n",
      "Results: (4, 28, ' Private', 338409, ' Bachelors', 13, ' Married-civ-spouse', ' Prof-specialty', ' Wife', ' Black', ' Female', 0, 0, 40, ' Cuba', ' <=50K')\n"
     ]
    }
   ],
   "source": [
    "result=engine.execute(\"Select * from Table_one limit 5;\")\n",
    "for row in result:\n",
    "    print(\"Results:\",row)"
   ]
  },
  {
   "cell_type": "code",
   "execution_count": 10,
   "metadata": {},
   "outputs": [],
   "source": [
    "# Que(2): Write two basic update queries??\n"
   ]
  },
  {
   "cell_type": "code",
   "execution_count": 11,
   "metadata": {},
   "outputs": [
    {
     "name": "stdout",
     "output_type": "stream",
     "text": [
      "Data before updating for gender\n",
      "Results:  (0, 39, ' State-gov', 77516, ' Bachelors', 13, ' Never-married', ' Adm-clerical', ' Not-in-family', ' White', ' Male', 2174, 0, 40, ' United-States', ' <=50K')\n"
     ]
    }
   ],
   "source": [
    "# First see the existing data:\n",
    "print(\"Data before updating for gender\")\n",
    "result=engine.execute ( \" Select * from Table_one where BatchId=77516 ; \")\n",
    "for row in result:\n",
    "    print(\"Results: \",row)"
   ]
  },
  {
   "cell_type": "code",
   "execution_count": 17,
   "metadata": {},
   "outputs": [
    {
     "name": "stdout",
     "output_type": "stream",
     "text": [
      " After updating data for gender Male and Female and Number 13 to 20\n",
      "Results:  (0, 39, ' State-gov', 77516, ' Bachelors', 20, ' Never-married', ' Adm-clerical', ' Not-in-family', ' White', 'Female', 2174, 0, 40, ' United-States', ' <=50K')\n"
     ]
    }
   ],
   "source": [
    "## Then let see the two data update queries:\n",
    "\n",
    "print(\" After updating data for gender Male and Female and Number 13 to 20\")\n",
    "engine.execute(\" Update Table_one Set Sex='Female' where BatchId=77516;   \")\n",
    "\n",
    "# Second update Query:\n",
    "\n",
    "engine.execute(\"Update Table_one SET Number=20 where BatchId=77516\")\n",
    "\n",
    "result=engine.execute ( \"Select * from Table_one where BatchId=77516\")\n",
    "for row in result:\n",
    "    print(\"Results: \",row)"
   ]
  },
  {
   "cell_type": "code",
   "execution_count": 18,
   "metadata": {},
   "outputs": [],
   "source": [
    "# Que(3): Write two delete queries??"
   ]
  },
  {
   "cell_type": "code",
   "execution_count": 19,
   "metadata": {},
   "outputs": [
    {
     "name": "stdout",
     "output_type": "stream",
     "text": [
      "Before Deleting any Data: \n",
      "Results: (0, 39, ' State-gov', 77516, ' Bachelors', 20, ' Never-married', ' Adm-clerical', ' Not-in-family', ' White', 'Female', 2174, 0, 40, ' United-States', ' <=50K')\n",
      "Results: (2, 38, ' Private', 215646, ' HS-grad', 9, ' Divorced', ' Handlers-cleaners', ' Not-in-family', ' White', ' Male', 0, 0, 40, ' United-States', ' <=50K')\n"
     ]
    }
   ],
   "source": [
    "print(\"Before Deleting any Data: \")\n",
    "result=engine.execute(\"Select * from Table_one where BatchId in(77516,215646)\")\n",
    "for row in result:\n",
    "    print(\"Results:\",row)"
   ]
  },
  {
   "cell_type": "code",
   "execution_count": 21,
   "metadata": {},
   "outputs": [
    {
     "name": "stdout",
     "output_type": "stream",
     "text": [
      "After deleting the data\n"
     ]
    }
   ],
   "source": [
    "# Deleting the queries:\n",
    "print(\"After deleting the data\")\n",
    "engine.execute(\"delete from Table_one where BatchId in(77516);\")\n",
    "\n",
    "# second query deleting:\n",
    "engine.execute(\"delete from Table_one where Age=38 and Education=' HS-grad' and sex=' Male' and Race=' White' and Relationship=' Not-in-family' and Occupation=' Handlers-cleaners';   \")\n",
    "\n",
    "result=engine.execute(\" select * from Table_one where BatchId in(77516,215646)\")\n",
    "\n",
    "for row in result:\n",
    "    print(\"Results: \",row)"
   ]
  },
  {
   "cell_type": "code",
   "execution_count": 22,
   "metadata": {},
   "outputs": [],
   "source": [
    "# Que(4):Write two filter queries??"
   ]
  },
  {
   "cell_type": "code",
   "execution_count": 27,
   "metadata": {},
   "outputs": [],
   "source": [
    "## Now let do from easy way , we were writing this:\n",
    "#for row in result:\n",
    " ##   print(\"Results : \",row)\n",
    "  # now doing same with defining the function as:\n",
    "def results(q):\n",
    "    result=engine.execute(q)\n",
    "    for row in result:\n",
    "        print(\"Results: \",row)\n",
    "    "
   ]
  },
  {
   "cell_type": "code",
   "execution_count": 45,
   "metadata": {},
   "outputs": [
    {
     "name": "stdout",
     "output_type": "stream",
     "text": [
      "Results:  (100, 76, ' Private', 124191, ' Masters', 14, ' Married-civ-spouse', ' Exec-managerial', ' Husband', ' White', ' Male', 0, 0, 40, ' United-States', ' >50K')\n"
     ]
    }
   ],
   "source": [
    "# First filter condition:\n",
    "results(\"Select * from Table_one where BatchId in(99928,124191) and Sex=' Male'; \")"
   ]
  },
  {
   "cell_type": "code",
   "execution_count": 48,
   "metadata": {},
   "outputs": [
    {
     "name": "stdout",
     "output_type": "stream",
     "text": [
      "Results:  (1341, 57, ' Private', 89392, ' Masters', 14, ' Married-spouse-absent', ' Prof-specialty', ' Not-in-family', ' White', ' Female', 0, 0, 40, ' United-States', ' <=50K')\n"
     ]
    }
   ],
   "source": [
    "# Second filter Conditions:\n",
    "results(\"select * from Table_one where Sex=' Female' and BatchId like '%89392%'; \")"
   ]
  },
  {
   "cell_type": "code",
   "execution_count": 49,
   "metadata": {},
   "outputs": [
    {
     "name": "stdout",
     "output_type": "stream",
     "text": [
      "Results :  (100, 76, ' Private', 124191, ' Masters', 14, ' Married-civ-spouse', ' Exec-managerial', ' Husband', ' White', ' Male', 0, 0, 40, ' United-States', ' >50K')\n"
     ]
    }
   ],
   "source": [
    "## OR this way: \n",
    "#First and second filter condition:\n",
    "result=engine.execute(\"Select * from Table_one where BatchId in(99928,124191) and Sex=' Male'; \")\n",
    "for row in result:\n",
    "    print(\"Results : \",row)\n",
    "#Second filter condition:\n",
    "result=engine.execute (\"select * from Table_one where Sex=' Female' and BatchId like '%89392% '; \")\n",
    "for row in result:\n",
    "    print(\"Results : \",row)"
   ]
  },
  {
   "cell_type": "code",
   "execution_count": 39,
   "metadata": {},
   "outputs": [],
   "source": [
    "#Que(5): Write two function queries??"
   ]
  },
  {
   "cell_type": "code",
   "execution_count": 40,
   "metadata": {},
   "outputs": [
    {
     "name": "stdout",
     "output_type": "stream",
     "text": [
      "Results:  (1256076,)\n"
     ]
    }
   ],
   "source": [
    "results(\"select sum(Age) from Table_one  ;\")"
   ]
  },
  {
   "cell_type": "code",
   "execution_count": 44,
   "metadata": {},
   "outputs": [
    {
     "name": "stdout",
     "output_type": "stream",
     "text": [
      "Results:  (17,)\n"
     ]
    }
   ],
   "source": [
    "results(\"select min(Age) from Table_one where Sex=' Male';\")"
   ]
  },
  {
   "cell_type": "code",
   "execution_count": null,
   "metadata": {},
   "outputs": [],
   "source": []
  }
 ],
 "metadata": {
  "kernelspec": {
   "display_name": "Python 3",
   "language": "python",
   "name": "python3"
  },
  "language_info": {
   "codemirror_mode": {
    "name": "ipython",
    "version": 3
   },
   "file_extension": ".py",
   "mimetype": "text/x-python",
   "name": "python",
   "nbconvert_exporter": "python",
   "pygments_lexer": "ipython3",
   "version": "3.6.4"
  }
 },
 "nbformat": 4,
 "nbformat_minor": 2
}
